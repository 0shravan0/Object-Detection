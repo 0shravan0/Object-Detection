{
 "cells": [
  {
   "cell_type": "code",
   "execution_count": 1,
   "id": "fd379c88",
   "metadata": {},
   "outputs": [],
   "source": [
    "import cv2"
   ]
  },
  {
   "cell_type": "code",
   "execution_count": 2,
   "id": "e77afd8d",
   "metadata": {},
   "outputs": [
    {
     "name": "stdout",
     "output_type": "stream",
     "text": [
      "min_blue,min_green,min_red = 0,0,0\n",
      "max_blue,max_green,max_red = 0,0,0\n"
     ]
    }
   ],
   "source": [
    "def do_nothing(x):\n",
    "    pass\n",
    "\n",
    "\n",
    "\n",
    "cv2.namedWindow('Track Bars',cv2.WINDOW_NORMAL)\n",
    "cv2.createTrackbar('min_blue', 'Track Bars', 0, 255, do_nothing)\n",
    "cv2.createTrackbar('min_green','Track Bars', 0,255, do_nothing)\n",
    "cv2.createTrackbar('min_red',  'Track Bars',0,255, do_nothing)\n",
    "\n",
    "\n",
    "cv2.createTrackbar('max_blue','Track Bars',0,255,do_nothing)\n",
    "cv2.createTrackbar('max_green','Track Bars',0,255,do_nothing)\n",
    "cv2.createTrackbar('max_red','Track Bars',0,255,do_nothing)\n",
    "\n",
    "\n",
    "image_BGR = cv2.imread('objects-to-detect.jpg')\n",
    "image_BGR = cv2.resize(image_BGR,(600,426))\n",
    "\n",
    "cv2.namedWindow(\"Original Image\",cv2.WINDOW_NORMAL)\n",
    "cv2.imshow('Original Image',image_BGR)\n",
    "\n",
    "\n",
    "image_HSV = cv2.cvtColor(image_BGR,cv2.COLOR_BGR2HSV)\n",
    "\n",
    "cv2.namedWindow('HSV Image',cv2.WINDOW_NORMAL)\n",
    "cv2.imshow('HSV Image',image_HSV)\n",
    "\n",
    "\n",
    "# while True:\n",
    "#     if cv2.waitKey(0):\n",
    "#         break\n",
    "\n",
    "while True:\n",
    "    min_blue = cv2.getTrackbarPos( 'min_blue','Track Bars')\n",
    "    min_green = cv2.getTrackbarPos('min_green','Track Bars')\n",
    "    min_red = cv2.getTrackbarPos('min_red','Track Bars')\n",
    "    \n",
    "    max_blue = cv2.getTrackbarPos('max_blue','Track Bars')\n",
    "    max_green = cv2.getTrackbarPos('max_green','Track Bars')\n",
    "    max_red = cv2.getTrackbarPos('max_red','Track Bars')\n",
    "    \n",
    "    mask = cv2.inRange(image_HSV,(min_blue,min_green,min_red),(max_blue,max_green,max_red))\n",
    "    \n",
    "    cv2.namedWindow('Binay image with mask',cv2.WINDOW_NORMAL)\n",
    "    cv2.imshow('Binary image with mask',mask)\n",
    "    \n",
    "    if cv2.waitKey(1) & 0xFF == ord('q'):\n",
    "        break\n",
    "        \n",
    "cv2.destroyAllWindows()\n",
    "\n",
    "print('min_blue,min_green,min_red = {0},{1},{2}'.format(min_blue,min_green,min_red))\n",
    "print('max_blue,max_green,max_red = {0},{1},{2}'.format(max_blue,max_green,max_red))"
   ]
  }
 ],
 "metadata": {
  "kernelspec": {
   "display_name": "Python 3",
   "language": "python",
   "name": "python3"
  },
  "language_info": {
   "codemirror_mode": {
    "name": "ipython",
    "version": 3
   },
   "file_extension": ".py",
   "mimetype": "text/x-python",
   "name": "python",
   "nbconvert_exporter": "python",
   "pygments_lexer": "ipython3",
   "version": "3.9.4 (tags/v3.9.4:1f2e308, Apr  6 2021, 13:40:21) [MSC v.1928 64 bit (AMD64)]"
  },
  "vscode": {
   "interpreter": {
    "hash": "6c7238fbeebecf6053697b9e3034821476c8fffb46f187a2c51615f8d9a71205"
   }
  }
 },
 "nbformat": 4,
 "nbformat_minor": 5
}
