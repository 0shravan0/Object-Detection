{
 "cells": [
  {
   "cell_type": "code",
   "execution_count": 2,
   "id": "295613ca",
   "metadata": {},
   "outputs": [],
   "source": [
    "import cv2"
   ]
  },
  {
   "cell_type": "code",
   "execution_count": 3,
   "id": "53958bb0",
   "metadata": {},
   "outputs": [],
   "source": [
    "min_blue,min_green,min_red = 130,56,154\n",
    "max_blue,max_green,max_red = 198,255,255"
   ]
  },
  {
   "cell_type": "code",
   "execution_count": 4,
   "id": "792801cc",
   "metadata": {},
   "outputs": [],
   "source": [
    "v = cv2.__version__.split('.')[0]"
   ]
  },
  {
   "cell_type": "code",
   "execution_count": 5,
   "id": "56ba8d7e",
   "metadata": {},
   "outputs": [
    {
     "name": "stdout",
     "output_type": "stream",
     "text": [
      "4\n"
     ]
    }
   ],
   "source": [
    "print(v)"
   ]
  },
  {
   "cell_type": "code",
   "execution_count": 10,
   "id": "1a7b2899",
   "metadata": {},
   "outputs": [],
   "source": [
    "camera = cv2.VideoCapture(0)\n",
    "#defining loop to cathc frames\n",
    "while True:\n",
    "    \n",
    "    _, frame_BGR = camera.read()#returns a value and image\n",
    "    \n",
    "    frame_HSV = cv2.cvtColor(frame_BGR,cv2.COLOR_BGR2HSV)\n",
    "    \n",
    "    mask = cv2.inRange(frame_HSV,(min_blue,min_green,min_red),(max_blue,max_green,max_red))\n",
    "    \n",
    "    cv2.namedWindow('Binay frame with mask',cv2.WINDOW_NORMAL)\n",
    "    cv2.imshow('Binary frame with mask',mask)\n",
    "    \n",
    "    if v == '3':\n",
    "        _,contours,_ = cv2.findContours(mask,cv2.RETR_TREE,cv2.CHAIN_APPROX_NONE)\n",
    "    else:\n",
    "        contours, _ = cv2.findContours(mask,cv2.RETR_TREE,cv2.CHAIN_APPROX_NONE)\n",
    "        \n",
    "    contours = sorted(contours,key = cv2.contourArea,reverse=True)\n",
    "    \n",
    "    if contours:\n",
    "        (x_min, y_min, box_width, box_height) = cv2.boundingRect(contours[0]) #contour[0] means first contour value detected\n",
    "        \n",
    "        cv2.rectangle(frame_BGR, (x_min - 15, y_min - 15),\n",
    "                      (x_min + box_width + 15, y_min + box_height + 15),\n",
    "                      (0, 255, 0), 3)\n",
    "\n",
    "        label = 'Detected Object'\n",
    "        \n",
    "        cv2.putText(frame_BGR, label, (x_min - 5, y_min - 25),cv2.FONT_HERSHEY_SIMPLEX, 1, (0, 255, 0), 2)\n",
    "            \n",
    "    cv2.namedWindow('Detected Object', cv2.WINDOW_NORMAL)\n",
    "    cv2.imshow('Detected Object', frame_BGR)\n",
    "\n",
    "    # Breaking the loop if 'q' is pressed\n",
    "    if cv2.waitKey(1) & 0xFF == ord('q'):\n",
    "        break\n",
    "cv2.destroyAllWindows()"
   ]
  },
  {
   "cell_type": "code",
   "execution_count": null,
   "id": "bbc94881",
   "metadata": {},
   "outputs": [],
   "source": []
  },
  {
   "cell_type": "code",
   "execution_count": null,
   "id": "de62bd17",
   "metadata": {},
   "outputs": [],
   "source": []
  }
 ],
 "metadata": {
  "kernelspec": {
   "display_name": "base",
   "language": "python",
   "name": "python3"
  },
  "language_info": {
   "codemirror_mode": {
    "name": "ipython",
    "version": 3
   },
   "file_extension": ".py",
   "mimetype": "text/x-python",
   "name": "python",
   "nbconvert_exporter": "python",
   "pygments_lexer": "ipython3",
   "version": "3.9.12 (main, Apr  4 2022, 05:22:27) [MSC v.1916 64 bit (AMD64)]"
  },
  "vscode": {
   "interpreter": {
    "hash": "9fdbc31d02ea8a3bad92e204bb81c92469ef7cbf2d59334d98bdf7e557538725"
   }
  }
 },
 "nbformat": 4,
 "nbformat_minor": 5
}
